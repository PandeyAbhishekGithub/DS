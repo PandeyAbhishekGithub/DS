{
 "cells": [
  {
   "cell_type": "code",
   "execution_count": 1,
   "id": "401daa31-1a7d-4cd7-9061-6d5369b1f3c5",
   "metadata": {},
   "outputs": [
    {
     "name": "stdout",
     "output_type": "stream",
     "text": [
      "hi\n"
     ]
    }
   ],
   "source": [
    "print (\"hi\")"
   ]
  },
  {
   "cell_type": "code",
   "execution_count": 2,
   "id": "3abc5cf4-77a7-48ff-892a-7805d26365f9",
   "metadata": {},
   "outputs": [
    {
     "name": "stdout",
     "output_type": "stream",
     "text": [
      "Abhishek Pandey\n"
     ]
    }
   ],
   "source": [
    "print (\"Abhishek Pandey\")"
   ]
  },
  {
   "cell_type": "code",
   "execution_count": 3,
   "id": "47f16971-d2c3-4f97-8433-12ce20a82f2a",
   "metadata": {},
   "outputs": [
    {
     "data": {
      "text/plain": [
       "16"
      ]
     },
     "execution_count": 3,
     "metadata": {},
     "output_type": "execute_result"
    }
   ],
   "source": [
    "9+7"
   ]
  },
  {
   "cell_type": "markdown",
   "id": "b7555fb3-d4d8-4806-ab4d-48ee6fe94d20",
   "metadata": {},
   "source": [
    "hello\n",
    "sdasd\n"
   ]
  },
  {
   "cell_type": "code",
   "execution_count": null,
   "id": "945fe50f-5f51-4bcb-82ee-3823c964b73a",
   "metadata": {},
   "outputs": [],
   "source": []
  }
 ],
 "metadata": {
  "kernelspec": {
   "display_name": "Python 3 (ipykernel)",
   "language": "python",
   "name": "python3"
  },
  "language_info": {
   "codemirror_mode": {
    "name": "ipython",
    "version": 3
   },
   "file_extension": ".py",
   "mimetype": "text/x-python",
   "name": "python",
   "nbconvert_exporter": "python",
   "pygments_lexer": "ipython3",
   "version": "3.12.4"
  }
 },
 "nbformat": 4,
 "nbformat_minor": 5
}
